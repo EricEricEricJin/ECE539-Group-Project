{
 "cells": [
  {
   "cell_type": "code",
   "execution_count": 48,
   "metadata": {},
   "outputs": [],
   "source": [
    "import os\n",
    "from pydub.utils import mediainfo\n",
    "import random\n",
    "import re\n"
   ]
  },
  {
   "cell_type": "code",
   "execution_count": 35,
   "metadata": {},
   "outputs": [],
   "source": [
    "def get_sample_rate(src):\n",
    "    info = mediainfo(src)\n",
    "    return int(info[\"sample_rate\"])\n",
    "\n",
    "def get_total_samples(src):\n",
    "    info = mediainfo(src)\n",
    "    return int(info[\"duration_ts\"])\n",
    "\n",
    "def cut(src, dest, start_sample, end_sample):\n",
    "    # print(\"cut\", int(start_sample*(sample_rate / 22050)), int(start_sample*(sample_rate / 22050)) + (end_sample-start_sample))\n",
    "    os.system(f'ffmpeg -i \"{src}\" -af atrim=start_sample={start_sample}:end_sample={end_sample} \"{dest}\" -y')"
   ]
  },
  {
   "cell_type": "code",
   "execution_count": 17,
   "metadata": {},
   "outputs": [
    {
     "data": {
      "text/plain": [
       "(274, 419)"
      ]
     },
     "execution_count": 17,
     "metadata": {},
     "output_type": "execute_result"
    }
   ],
   "source": [
    "singings = 0\n",
    "for dirname, _, filenames in os.walk(\"raw_singing\"):\n",
    "    for f in filenames:\n",
    "        if (\".wav\" in f):\n",
    "            singings += get_total_samples(os.path.join(dirname, f)) // 661500 - 2\n",
    "\n",
    "speechs = 0\n",
    "for dirname, _, filenames in os.walk(\"raw_speech\"):\n",
    "    for f in filenames:\n",
    "        if (\".wav\" in f):\n",
    "            speechs += get_total_samples(os.path.join(dirname, f)) // 661500\n",
    "\n",
    "singings, speechs"
   ]
  },
  {
   "cell_type": "code",
   "execution_count": 44,
   "metadata": {},
   "outputs": [
    {
     "name": "stdout",
     "output_type": "stream",
     "text": [
      "False\n",
      "False\n",
      "False\n",
      "False\n",
      "False\n",
      "False\n",
      "False\n",
      "False\n"
     ]
    }
   ],
   "source": [
    "for dirname, _, fns in os.walk(\"./\"):\n",
    "    print(dirname == \"xxm_mixed\")"
   ]
  },
  {
   "cell_type": "code",
   "execution_count": 34,
   "metadata": {},
   "outputs": [
    {
     "name": "stdout",
     "output_type": "stream",
     "text": [
      "419 ('raw_speech\\\\BV17M41197j6_书？满满快快出一本~.wav', 'xxm_speech\\\\0_8.wav', 5292000, 5953500)\n",
      "274 ('raw_singing\\\\BV1xM411R7zn_人间不值得-咻咻满-2023年10月25日-直播歌切.wav', 'xxm_singing\\\\1_4.wav', 2646000, 3307500)\n"
     ]
    }
   ],
   "source": [
    "CHUNK_SIZE = 661500\n",
    "\n",
    "\n",
    "def get_cut_list(src_dir, dst_dir, skip_head_n = 0, skip_tail_n = 0):\n",
    "    cut_list = []\n",
    "    \n",
    "    for i, filename in enumerate(filter(lambda x: \".wav\" in x, os.listdir(src_dir))):\n",
    "        src =  os.path.join(src_dir, filename)\n",
    "        alias = os.path.join(dst_dir, str(i))\n",
    "        total_samples = get_total_samples(src)\n",
    "        \n",
    "        for j in range(skip_head_n, total_samples // CHUNK_SIZE - skip_tail_n):\n",
    "            cut_list.append((src, f\"{alias}_{j}.wav\", CHUNK_SIZE * j, CHUNK_SIZE * (j+1)))\n",
    "\n",
    "    return cut_list\n",
    "\n",
    "speech_cut_list = get_cut_list(\"raw_speech\", \"xxm_speech\")\n",
    "singing_cut_list = get_cut_list(\"raw_singing\", \"xxm_singing\", skip_head_n=1, skip_tail_n=1)\n",
    "\n",
    "print(len(speech_cut_list), speech_cut_list[8])\n",
    "print(len(singing_cut_list), singing_cut_list[8])"
   ]
  },
  {
   "cell_type": "code",
   "execution_count": 36,
   "metadata": {},
   "outputs": [],
   "source": [
    "for x in singing_cut_list:\n",
    "    cut(*x)"
   ]
  },
  {
   "cell_type": "code",
   "execution_count": 39,
   "metadata": {},
   "outputs": [],
   "source": [
    "for x in random.sample(speech_cut_list, len(singing_cut_list)):\n",
    "    cut(*x)"
   ]
  },
  {
   "cell_type": "code",
   "execution_count": 49,
   "metadata": {},
   "outputs": [
    {
     "name": "stdout",
     "output_type": "stream",
     "text": [
      "xxm_mixed BV1uk4y1F7nv\n",
      "xxm_mixed BV1bT411S7ck\n",
      "xxm_mixed BV1WN41167kE\n",
      "xxm_mixed BV15z4y1M7ee\n"
     ]
    }
   ],
   "source": [
    "# Rename mixed\n",
    "def rename_BV(src_dir):\n",
    "    for dirname, _, filenames in os.walk(src_dir):\n",
    "        for f in filenames:\n",
    "            if \".wav\" in f:\n",
    "                BV = re.findall(\"BV[0-9a-zA-Z]*\", f)[0]\n",
    "                print(dirname, BV)\n",
    "                os.rename(os.path.join(dirname, f), os.path.join(dirname, BV+\".wav\"))"
   ]
  },
  {
   "cell_type": "code",
   "execution_count": null,
   "metadata": {},
   "outputs": [],
   "source": [
    "# # Resample to 44.1K\n",
    "# file_list = list(filter(lambda x: \".m4a\" in x, os.listdir(\"../xxm_collection/bili0901\")))\n",
    "\n",
    "# for file in file_list:\n",
    "#     sample_rate = get_sample_rate(\"../xxm_collection/bili0901/\"+file)\n",
    "#     print(file, sample_rate)\n",
    "#     if (sample_rate == 44100):\n",
    "#         os.system(f'cp \"../xxm_collection/bili0901/{file}\" raw_singing/')\n",
    "#     else:\n",
    "#         os.system(f'ffmpeg -i \"../xxm_collection/bili0901/{file}\" -ar 44100 raw_singing/{file}')\n",
    "# # for i, filename in enumerate(file_list):\n",
    "# #     print(i, filename)\n",
    "# #     process(\"../xxm_collection/bili0901/\"+filename, \"xxm_singing/\"+str(i))"
   ]
  },
  {
   "cell_type": "code",
   "execution_count": null,
   "metadata": {},
   "outputs": [],
   "source": [
    "# file_list = list(filter(lambda x: \".m4a\" in x, os.listdir(\"raw_singing\")))\n",
    "# file_list = random.choices(file_list, k=137)\n",
    "# file_list\n",
    "\n",
    "# for i, filename in  enumerate(file_list):\n",
    "#     print(i, filename)\n",
    "#     process(\"raw_singing/\"+filename, \"xxm_singing/\"+str(i), onlyone=True)"
   ]
  }
 ],
 "metadata": {
  "kernelspec": {
   "display_name": "Python 3",
   "language": "python",
   "name": "python3"
  },
  "language_info": {
   "codemirror_mode": {
    "name": "ipython",
    "version": 3
   },
   "file_extension": ".py",
   "mimetype": "text/x-python",
   "name": "python",
   "nbconvert_exporter": "python",
   "pygments_lexer": "ipython3",
   "version": "3.10.7"
  }
 },
 "nbformat": 4,
 "nbformat_minor": 2
}
