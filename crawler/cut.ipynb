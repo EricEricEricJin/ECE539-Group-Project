{
 "cells": [
  {
   "cell_type": "code",
   "execution_count": 52,
   "metadata": {},
   "outputs": [],
   "source": [
    "import os\n",
    "from pydub.utils import mediainfo\n",
    "import random\n"
   ]
  },
  {
   "cell_type": "code",
   "execution_count": 104,
   "metadata": {},
   "outputs": [],
   "source": [
    "def get_sample_rate(src):\n",
    "    info = mediainfo(src)\n",
    "    # print(info)\n",
    "    return int(info[\"sample_rate\"])\n",
    "\n",
    "\n",
    "def get_total_samples(src):\n",
    "    info = mediainfo(src)\n",
    "    # print(info)\n",
    "    assert info[\"channels\"] == \"2\" and info[\"sample_rate\"] == \"44100\"\n",
    "    return int(info[\"duration_ts\"])\n",
    "\n",
    "def cut(src, dest, start_sample, end_sample):\n",
    "    # print(\"cut\", int(start_sample*(sample_rate / 22050)), int(start_sample*(sample_rate / 22050)) + (end_sample-start_sample))\n",
    "    os.system(f'ffmpeg -i \"{src}\" -ac 1 -ar 22050 -af atrim=start_sample={start_sample * 2}:end_sample={end_sample * 2} \"{dest}\" -y')"
   ]
  },
  {
   "cell_type": "code",
   "execution_count": 117,
   "metadata": {},
   "outputs": [],
   "source": [
    "CHUNK_SIZE = 661500\n",
    "def process(src, alias, onlyone=False):\n",
    "    total_samples = get_total_samples(src) // 2\n",
    "    # print(total_samples, sample_rate)\n",
    "    if (onlyone):\n",
    "        i = random.randint(0, total_samples // CHUNK_SIZE - 1)\n",
    "        cut(src, f\"{alias}.wav\", CHUNK_SIZE * i, CHUNK_SIZE * (i+1))\n",
    "    else:\n",
    "        for i in range(total_samples // CHUNK_SIZE): \n",
    "            cut(src, f\"{alias}_{i}.wav\", CHUNK_SIZE * i, CHUNK_SIZE * (i+1))"
   ]
  },
  {
   "cell_type": "code",
   "execution_count": null,
   "metadata": {},
   "outputs": [],
   "source": [
    "for i, filename in  enumerate(filter(lambda x: \".m4a\" in x, os.listdir(\"raw_speech\"))):\n",
    "    print(i, filename)\n",
    "    process(\"raw_speech/\"+filename, \"xxm_speech/\"+str(i))\n"
   ]
  },
  {
   "cell_type": "code",
   "execution_count": null,
   "metadata": {},
   "outputs": [],
   "source": [
    "# Resample to 44.1K\n",
    "file_list = list(filter(lambda x: \".m4a\" in x, os.listdir(\"../xxm_collection/bili0901\")))\n",
    "\n",
    "for file in file_list:\n",
    "    sample_rate = get_sample_rate(\"../xxm_collection/bili0901/\"+file)\n",
    "    print(file, sample_rate)\n",
    "    if (sample_rate == 44100):\n",
    "        os.system(f'cp \"../xxm_collection/bili0901/{file}\" raw_singing/')\n",
    "    else:\n",
    "        os.system(f'ffmpeg -i \"../xxm_collection/bili0901/{file}\" -ar 44100 raw_singing/{file}')\n",
    "# for i, filename in enumerate(file_list):\n",
    "#     print(i, filename)\n",
    "#     process(\"../xxm_collection/bili0901/\"+filename, \"xxm_singing/\"+str(i))"
   ]
  },
  {
   "cell_type": "code",
   "execution_count": null,
   "metadata": {},
   "outputs": [],
   "source": [
    "file_list = list(filter(lambda x: \".m4a\" in x, os.listdir(\"raw_singing\")))\n",
    "file_list = random.choices(file_list, k=137)\n",
    "file_list\n",
    "\n",
    "for i, filename in  enumerate(file_list):\n",
    "    print(i, filename)\n",
    "    process(\"raw_singing/\"+filename, \"xxm_singing/\"+str(i), onlyone=True)"
   ]
  }
 ],
 "metadata": {
  "kernelspec": {
   "display_name": "Python 3",
   "language": "python",
   "name": "python3"
  },
  "language_info": {
   "codemirror_mode": {
    "name": "ipython",
    "version": 3
   },
   "file_extension": ".py",
   "mimetype": "text/x-python",
   "name": "python",
   "nbconvert_exporter": "python",
   "pygments_lexer": "ipython3",
   "version": "3.10.7"
  }
 },
 "nbformat": 4,
 "nbformat_minor": 2
}
