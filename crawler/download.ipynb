{
 "cells": [
  {
   "cell_type": "code",
   "execution_count": 5,
   "metadata": {},
   "outputs": [],
   "source": [
    "import os\n",
    "import shutil\n",
    "import re"
   ]
  },
  {
   "cell_type": "code",
   "execution_count": 20,
   "metadata": {},
   "outputs": [],
   "source": [
    "def download(BV, target):\n",
    "    shutil.rmtree(\"D:/vv/\")\n",
    "    # Download\n",
    "    cmd = f\"bilili.exe https://www.bilibili.com/video/{BV} -q 16 -d D:/vv -y\"\n",
    "    print(cmd, os.system(cmd))\n",
    "\n",
    "    # Convert\n",
    "    for dirname, _, filenames in os.walk(\"D:/vv\"):\n",
    "        for filename in filenames:\n",
    "            if \".mp4\" in filename:\n",
    "                cmd = f'ffmpeg -y -i \"{os.path.join(dirname, filename)}\" -ac 1 -ar 22050 \"{target}/{BV}_{filename.replace(\".mp4\", \".wav\")}\"'\n",
    "                print(cmd, os.system(cmd))\n",
    "    "
   ]
  },
  {
   "cell_type": "code",
   "execution_count": 22,
   "metadata": {},
   "outputs": [
    {
     "name": "stdout",
     "output_type": "stream",
     "text": [
      "raw_singing/BV1xM411R7zn already exist\n",
      "raw_singing/BV11C4y1Z7hW already exist\n",
      "raw_singing/BV1q24y1c7wm already exist\n",
      "raw_singing/BV1iu4y1D7tf already exist\n",
      "raw_speech/BV17M41197j6 already exist\n",
      "raw_speech/BV1KV411j75j already exist\n",
      "raw_speech/BV1Ph411N7re already exist\n",
      "raw_speech/BV1rh411q7dj already exist\n",
      "xxm_mixed/BV1uk4y1F7nv already exist\n",
      "xxm_mixed/BV1bT411S7ck already exist\n",
      "xxm_mixed/BV1WN41167kE already exist\n",
      "xxm_mixed/BV15z4y1M7ee already exist\n",
      "xxm_mixed/BV1sL411k71J already exist\n",
      "xxm_mixed/BV1rD4y1A7PY already exist\n",
      "xxm_mixed/BV1mu4y1e7oL already exist\n",
      "bilili.exe https://www.bilibili.com/video/BV1V84y1e7s9 -q 16 -d D:/vv -y 0\n",
      "ffmpeg -y -i \"D:/vv\\【咻咻满】2023-01-03 弹幕版 - bilibili\\Videos\\【咻咻满】2023-01-03 弹幕版.mp4\" -ac 1 -ar 22050 \"xxm_mixed/BV1V84y1e7s9_【咻咻满】2023-01-03 弹幕版.wav\" 0\n",
      "bilili.exe https://www.bilibili.com/video/BV1uN411E7KD -q 16 -d D:/vv -y 0\n",
      "ffmpeg -y -i \"D:/vv\\【咻咻满】2023-09-28 弹幕版 - bilibili\\Videos\\【咻咻满】2023-09-28 弹幕版.mp4\" -ac 1 -ar 22050 \"xxm_mixed/BV1uN411E7KD_【咻咻满】2023-09-28 弹幕版.wav\" 0\n",
      "bilili.exe https://www.bilibili.com/video/BV1ST411t77z -q 16 -d D:/vv -y 0\n",
      "ffmpeg -y -i \"D:/vv\\【咻咻满】2023-05-16 弹幕版 狂暴放歌！ - bilibili\\Videos\\【咻咻满】2023-05-16 弹幕版 狂暴放歌！.mp4\" -ac 1 -ar 22050 \"xxm_mixed/BV1ST411t77z_【咻咻满】2023-05-16 弹幕版 狂暴放歌！.wav\" 0\n",
      "xxm_mixed_test/BV1JN4y1U7ba already exist\n",
      "xxm_mixed_test/BV1ye411X7AP already exist\n",
      "xxm_mixed_test/BV1Hw411z7Sv already exist\n",
      "xxm_mixed_test/BV1Gh4y1i7dv already exist\n",
      "bilili.exe https://www.bilibili.com/video/BV1os4y1J7TK -q 16 -d D:/vv -y 0\n",
      "ffmpeg -y -i \"D:/vv\\【咻咻满】2023-03-28 弹幕版 - bilibili\\Videos\\【咻咻满】2023-03-28 弹幕版.mp4\" -ac 1 -ar 22050 \"xxm_mixed_test/BV1os4y1J7TK_【咻咻满】2023-03-28 弹幕版.wav\" 0\n",
      "bilili.exe https://www.bilibili.com/video/BV1n24y1t7Xb -q 16 -d D:/vv -y 0\n",
      "ffmpeg -y -i \"D:/vv\\【咻咻满】2022-12-11 弹幕版 - bilibili\\Videos\\【咻咻满】2022-12-11 弹幕版.mp4\" -ac 1 -ar 22050 \"xxm_mixed_test/BV1n24y1t7Xb_【咻咻满】2022-12-11 弹幕版.wav\" 0\n",
      "bilili.exe https://www.bilibili.com/video/BV1gu4y1Q7V2 -q 16 -d D:/vv -y 0\n",
      "ffmpeg -y -i \"D:/vv\\【咻咻满】2023-08-31 弹幕版 U87电台之夜~饿饿饿 - bilibili\\Videos\\【咻咻满】2023-08-31 弹幕版 U87电台之夜~饿饿饿.mp4\" -ac 1 -ar 22050 \"xxm_mixed_test/BV1gu4y1Q7V2_【咻咻满】2023-08-31 弹幕版 U87电台之夜~饿饿饿.wav\" 0\n",
      "bilili.exe https://www.bilibili.com/video/BV1CL411q77Y -q 16 -d D:/vv -y 0\n",
      "ffmpeg -y -i \"D:/vv\\【咻咻满】2023-06-01 弹幕版 祝各位大朋友小朋友节日快乐~ - bilibili\\Videos\\【咻咻满】2023-06-01 弹幕版 祝各位大朋友小朋友节日快乐~.mp4\" -ac 1 -ar 22050 \"xxm_mixed_test/BV1CL411q77Y_【咻咻满】2023-06-01 弹幕版 祝各位大朋友小朋友节日快乐~.wav\" 0\n"
     ]
    }
   ],
   "source": [
    "for BV_file, target in zip([\"singing_BV.txt\", \"speech_BV.txt\", \"mixed_BV.txt\", \"mixed_test_BV.txt\"], [\"raw_singing\", \"raw_speech\", \"xxm_mixed\", \"xxm_mixed_test\"]):\n",
    "    with open(BV_file) as f:\n",
    "        BV_list = [re.findall(\"BV[0-9a-zA-Z]*\", s)[0] for s in f.readlines()]\n",
    "    exist_BV_set = set([re.findall(\"BV[0-9a-zA-Z]*\", _)[0] for _ in os.listdir(target)])\n",
    "    for BV in BV_list:\n",
    "        # if exist then continue\n",
    "        if (BV in exist_BV_set):\n",
    "            print(f\"{target}/{BV} already exist\")\n",
    "        else:\n",
    "            download(BV, target)\n",
    "            # print(\"download\", BV, target)"
   ]
  }
 ],
 "metadata": {
  "kernelspec": {
   "display_name": "Python 3",
   "language": "python",
   "name": "python3"
  },
  "language_info": {
   "codemirror_mode": {
    "name": "ipython",
    "version": 3
   },
   "file_extension": ".py",
   "mimetype": "text/x-python",
   "name": "python",
   "nbconvert_exporter": "python",
   "pygments_lexer": "ipython3",
   "version": "3.10.7"
  }
 },
 "nbformat": 4,
 "nbformat_minor": 2
}
