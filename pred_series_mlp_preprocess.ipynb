{
  "nbformat": 4,
  "nbformat_minor": 0,
  "metadata": {
    "colab": {
      "provenance": [],
      "gpuType": "T4",
      "machine_shape": "hm",
      "authorship_tag": "ABX9TyPRVbG7p9iQJnqP2AXQJEm5",
      "include_colab_link": true
    },
    "kernelspec": {
      "name": "python3",
      "display_name": "Python 3"
    },
    "language_info": {
      "name": "python"
    },
    "accelerator": "GPU"
  },
  "cells": [
    {
      "cell_type": "markdown",
      "metadata": {
        "id": "view-in-github",
        "colab_type": "text"
      },
      "source": [
        "<a href=\"https://colab.research.google.com/github/EricEricEricJin/ECE539-Group-Project/blob/master/pred_series_mlp_preprocess.ipynb\" target=\"_parent\"><img src=\"https://colab.research.google.com/assets/colab-badge.svg\" alt=\"Open In Colab\"/></a>"
      ]
    },
    {
      "cell_type": "markdown",
      "source": [
        "Aims to develop a MLP that use predict series as input and output the class (speech or singing)\n",
        "\n",
        "```\n",
        "[M samples] [N sample]\n",
        "           |\n",
        "   marker -|\n",
        "```\n",
        "Input shape: (M+N),  \n",
        "Output shape: (2), categorical"
      ],
      "metadata": {
        "id": "VZUx7GckJQXE"
      }
    },
    {
      "cell_type": "code",
      "execution_count": 25,
      "metadata": {
        "colab": {
          "base_uri": "https://localhost:8080/"
        },
        "id": "nytqgo4XJINE",
        "outputId": "12ec6f5f-6894-48ba-f245-c3f0b96aa57b"
      },
      "outputs": [
        {
          "output_type": "stream",
          "name": "stdout",
          "text": [
            "Mounted at /content/drive\n"
          ]
        }
      ],
      "source": [
        "from google.colab import drive\n",
        "drive.mount(\"/content/drive\")\n",
        "\n",
        "import numpy as np\n",
        "import matplotlib.pyplot as plt\n",
        "from sklearn.model_selection import train_test_split\n",
        "import tensorflow as tf\n",
        "import tensorflow.keras as keras\n",
        "\n",
        "import os\n",
        "import random"
      ]
    },
    {
      "cell_type": "code",
      "source": [
        "# - Use model to predict\n",
        "# - Align with marker\n",
        "# - Sample M before and N after\n",
        "# - Sample (M+N) inside large-enough intervals !!NEED TO COVER CEC!!\n",
        "# - Save samples in .npy format"
      ],
      "metadata": {
        "id": "ThB0WaKtKbbu"
      },
      "execution_count": 26,
      "outputs": []
    },
    {
      "cell_type": "code",
      "source": [
        "SAMPLE_RATE = 22050\n",
        "\n",
        "MM = int(0.5*60*SAMPLE_RATE) # 0.5min, assume all intervals between songs are larger than 0.5min\n",
        "NN = int(1.5*50*SAMPLE_RATE) # 1.5min, assume all songs are longer than 1.5min\n",
        "DIR_NAME = \"/content/drive/My Drive/Colab Notebooks/ECE539_Project/\"\n",
        "\n",
        "CHUNK_SAMPLE = 661500 // 5"
      ],
      "metadata": {
        "id": "QB4KeAm1MGzK"
      },
      "execution_count": 27,
      "outputs": []
    },
    {
      "cell_type": "code",
      "source": [
        "# Load model\n",
        "model = keras.models.load_model(DIR_NAME + f\"ms_clf_weights_N={CHUNK_SAMPLE}\")\n",
        "model.summary()"
      ],
      "metadata": {
        "colab": {
          "base_uri": "https://localhost:8080/"
        },
        "id": "U4aaLaM0NHqL",
        "outputId": "216f5d67-cb18-4ebb-e017-24e684faaabd"
      },
      "execution_count": 28,
      "outputs": [
        {
          "output_type": "stream",
          "name": "stdout",
          "text": [
            "Model: \"sequential\"\n",
            "_________________________________________________________________\n",
            " Layer (type)                Output Shape              Param #   \n",
            "=================================================================\n",
            " resizing (Resizing)         (None, 512, 64, 1)        0         \n",
            "                                                                 \n",
            " normalization (Normalizati  (None, 512, 64, 1)        3         \n",
            " on)                                                             \n",
            "                                                                 \n",
            " conv2d (Conv2D)             (None, 510, 62, 32)       320       \n",
            "                                                                 \n",
            " conv2d_1 (Conv2D)           (None, 508, 60, 64)       18496     \n",
            "                                                                 \n",
            " max_pooling2d (MaxPooling2  (None, 254, 30, 64)       0         \n",
            " D)                                                              \n",
            "                                                                 \n",
            " dropout (Dropout)           (None, 254, 30, 64)       0         \n",
            "                                                                 \n",
            " flatten (Flatten)           (None, 487680)            0         \n",
            "                                                                 \n",
            " dense (Dense)               (None, 128)               62423168  \n",
            "                                                                 \n",
            " dropout_1 (Dropout)         (None, 128)               0         \n",
            "                                                                 \n",
            " dense_1 (Dense)             (None, 2)                 258       \n",
            "                                                                 \n",
            "=================================================================\n",
            "Total params: 62442245 (238.20 MB)\n",
            "Trainable params: 62442242 (238.20 MB)\n",
            "Non-trainable params: 3 (16.00 Byte)\n",
            "_________________________________________________________________\n"
          ]
        }
      ]
    },
    {
      "cell_type": "code",
      "source": [
        "def evaluate_stream(BV, STEP_SIZE):\n",
        "  # Load audio file and parse marker file\n",
        "  wav_filepath = DIR_NAME + f\"xxm_mixed/{BV}.wav\"\n",
        "  audio_binary = tf.io.read_file(wav_filepath)\n",
        "  marker = np.loadtxt(\n",
        "    DIR_NAME + f\"xxm_mixed/{BV}.csv\",\n",
        "    delimiter=',')\n",
        "  marker = marker[:,0] * 3600 + marker[:,1] * 60 + marker[:,2]\n",
        "\n",
        "  # Decode audio and transform to spectrograms\n",
        "  audio, _ = tf.audio.decode_wav(audio_binary)\n",
        "  waveform = tf.squeeze(audio)\n",
        "\n",
        "  def get_spectrogram(waveform):\n",
        "      spectrogram = tf.signal.stft(\n",
        "          waveform, frame_length=255, frame_step=128)\n",
        "      # removes the phase (we only care about the magnitude)\n",
        "      spectrogram = tf.abs(spectrogram)\n",
        "      return spectrogram\n",
        "\n",
        "  pred_list = []\n",
        "  model_input_list = []\n",
        "\n",
        "  for i in range((len(waveform) - CHUNK_SAMPLE) // STEP_SIZE + 1):\n",
        "    wave_ith = waveform[i * STEP_SIZE : i * STEP_SIZE + CHUNK_SAMPLE]\n",
        "    model_input_list.append(tf.expand_dims(get_spectrogram(wave_ith), -1))\n",
        "\n",
        "  # Use model to predict\n",
        "  input_shape = model_input_list[0].shape\n",
        "  pred_list = model.predict(tf.reshape(model_input_list, (len(model_input_list), *input_shape)))\n",
        "  return marker, pred_list"
      ],
      "metadata": {
        "id": "QU51OtXWNLzV"
      },
      "execution_count": 29,
      "outputs": []
    },
    {
      "cell_type": "code",
      "source": [
        "BV_list = [\"BV1bT411S7ck\",\n",
        "           \"BV15z4y1M7ee\",\n",
        "           \"BV1WN41167kE\"]\n",
        "STEP_SIZE = CHUNK_SAMPLE // 2\n",
        "\n",
        "for BV in BV_list:\n",
        "  marker, pred_list = evaluate_stream(BV, STEP_SIZE)\n",
        "  pred_1D = pred_list[:,1] - pred_list[:,0]\n",
        "\n",
        "  start_idx = np.array([int((m-60) * SAMPLE_RATE / STEP_SIZE) for m in marker])\n",
        "  end_idx = np.array([int((m+90) * SAMPLE_RATE / STEP_SIZE) for m in marker])\n",
        "  input_size = end_idx[0] - start_idx[0]\n",
        "\n",
        "  print(\"start idx\", start_idx)\n",
        "  print(\"end idx\", end_idx)\n",
        "  print(\"intervals\", end_idx-start_idx)\n",
        "  print(\"input size\", input_size)\n",
        "\n",
        "  # singings\n",
        "  singings = np.array([pred_1D[start_idx[i] : end_idx[i]] for i in range(len(marker))])\n",
        "\n",
        "  # speeches\n",
        "  speeches = []\n",
        "  for i in range(len(marker) - 1):\n",
        "    for j in range((start_idx[i+1] - end_idx[i]) // input_size):\n",
        "      speeches.append(pred_1D[end_idx[i] + j*input_size : end_idx[i] + (j+1)*input_size])\n",
        "  for i in range((len(pred_1D) - end_idx[-1]) // input_size):\n",
        "    speeches.append(pred_1D[end_idx[-1] + i*input_size : end_idx[-1] + (i+1)*(input_size)])\n",
        "  speeches = np.array(random.sample(speeches, len(marker)))\n",
        "\n",
        "  print(BV, \"singing\", singings.shape, \"speech\", speeches.shape)\n",
        "\n",
        "  # save to drive\n",
        "  np.save(DIR_NAME + \"pred_series/singing/\" + f\"{BV}.npy\", singings)\n",
        "  np.save(DIR_NAME + \"pred_series/speech/\" + f\"{BV}.npy\", speeches)\n",
        ""
      ],
      "metadata": {
        "colab": {
          "base_uri": "https://localhost:8080/"
        },
        "id": "HKqLp8KOQf23",
        "outputId": "1bd674ef-eac9-414f-b452-d2fbf1673dfc"
      },
      "execution_count": 30,
      "outputs": [
        {
          "output_type": "stream",
          "name": "stdout",
          "text": [
            "106/106 [==============================] - 2s 20ms/step\n",
            "start idx [ 367  447  589  746  883 1212 1263 1355 1449 1564 1625 1685 1791 1840\n",
            " 1949 2030 2165 2240 2355 2416]\n",
            "end idx [ 417  497  639  796  933 1262 1313 1405 1499 1614 1675 1735 1841 1890\n",
            " 1999 2080 2215 2290 2405 2466]\n",
            "intervals [50 50 50 50 50 50 50 50 50 50 50 50 50 50 50 50 50 50 50 50]\n",
            "input size 50\n",
            "BV1bT411S7ck singing (20, 50) speech (20, 50)\n",
            "81/81 [==============================] - 2s 20ms/step\n",
            "start idx [ 140  486  573  686  795 1100 1184 1260 1349 1447 1555 1636 1730 1856\n",
            " 1981 2144 2237 2344 2444]\n",
            "end idx [ 190  536  623  736  845 1150 1234 1310 1399 1497 1605 1686 1780 1906\n",
            " 2031 2194 2287 2394 2494]\n",
            "intervals [50 50 50 50 50 50 50 50 50 50 50 50 50 50 50 50 50 50 50]\n",
            "input size 50\n",
            "BV15z4y1M7ee singing (19, 50) speech (19, 50)\n",
            "102/102 [==============================] - 2s 19ms/step\n",
            "start idx [ 343  449  583  761  856  961 1079 1188 1312 1476 1557 1694 1799 1864\n",
            " 2024 2611 2731 2879 3075]\n",
            "end idx [ 393  499  633  811  906 1011 1129 1238 1362 1526 1607 1744 1849 1914\n",
            " 2074 2661 2781 2929 3125]\n",
            "intervals [50 50 50 50 50 50 50 50 50 50 50 50 50 50 50 50 50 50 50]\n",
            "input size 50\n",
            "BV1WN41167kE singing (19, 50) speech (19, 50)\n"
          ]
        }
      ]
    },
    {
      "cell_type": "code",
      "source": [
        "drive.flush_and_unmount()"
      ],
      "metadata": {
        "id": "u34fVwaPhtrS"
      },
      "execution_count": 31,
      "outputs": []
    }
  ]
}