{
  "nbformat": 4,
  "nbformat_minor": 0,
  "metadata": {
    "colab": {
      "provenance": [],
      "gpuType": "T4",
      "machine_shape": "hm",
      "authorship_tag": "ABX9TyNkRdlz4fVgqvp/4Tt6QXCp",
      "include_colab_link": true
    },
    "kernelspec": {
      "name": "python3",
      "display_name": "Python 3"
    },
    "language_info": {
      "name": "python"
    },
    "accelerator": "GPU"
  },
  "cells": [
    {
      "cell_type": "markdown",
      "metadata": {
        "id": "view-in-github",
        "colab_type": "text"
      },
      "source": [
        "<a href=\"https://colab.research.google.com/github/EricEricEricJin/ECE539-Group-Project/blob/master/pred_series_mlp_preprocess.ipynb\" target=\"_parent\"><img src=\"https://colab.research.google.com/assets/colab-badge.svg\" alt=\"Open In Colab\"/></a>"
      ]
    },
    {
      "cell_type": "markdown",
      "source": [
        "__MUST TURN ON HI-RAM__"
      ],
      "metadata": {
        "id": "FR3StnicB_WO"
      }
    },
    {
      "cell_type": "markdown",
      "source": [
        "Aims to develop a MLP that use predict series as input and output the class (speech or singing)\n",
        "\n",
        "```\n",
        "[M samples] [N sample]\n",
        "           |\n",
        "   marker -|\n",
        "```\n",
        "Input shape: (M+N),  \n",
        "Output shape: (2), categorical"
      ],
      "metadata": {
        "id": "VZUx7GckJQXE"
      }
    },
    {
      "cell_type": "code",
      "execution_count": null,
      "metadata": {
        "colab": {
          "base_uri": "https://localhost:8080/"
        },
        "id": "nytqgo4XJINE",
        "outputId": "3a578ddc-e161-4e76-f5c5-b165c8e2c2ee"
      },
      "outputs": [
        {
          "output_type": "stream",
          "name": "stdout",
          "text": [
            "Mounted at /content/drive\n"
          ]
        }
      ],
      "source": [
        "from google.colab import drive\n",
        "drive.mount(\"/content/drive\")\n",
        "\n",
        "import numpy as np\n",
        "import matplotlib.pyplot as plt\n",
        "from sklearn.model_selection import train_test_split\n",
        "import tensorflow as tf\n",
        "import tensorflow.keras as keras\n",
        "\n",
        "import os\n",
        "import random\n",
        "import re"
      ]
    },
    {
      "cell_type": "code",
      "source": [
        "# - Use model to predict\n",
        "# - Align with marker\n",
        "# - Sample M before and N after\n",
        "# - Sample (M+N) inside large-enough intervals !!NEED TO COVER CEC!!\n",
        "# - Save samples in .npy format"
      ],
      "metadata": {
        "id": "ThB0WaKtKbbu"
      },
      "execution_count": null,
      "outputs": []
    },
    {
      "cell_type": "code",
      "source": [
        "SAMPLE_RATE = 22050\n",
        "\n",
        "DIR_NAME = \"/content/drive/My Drive/Colab Notebooks/ECE539_Project/\"\n",
        "\n",
        "CHUNK_SAMPLE = 661500 // 5"
      ],
      "metadata": {
        "id": "QB4KeAm1MGzK"
      },
      "execution_count": null,
      "outputs": []
    },
    {
      "cell_type": "code",
      "source": [
        "# Load model\n",
        "model = keras.models.load_model(DIR_NAME + f\"ms_clf_weights_N={CHUNK_SAMPLE}\")\n",
        "model.summary()"
      ],
      "metadata": {
        "id": "U4aaLaM0NHqL",
        "colab": {
          "base_uri": "https://localhost:8080/"
        },
        "outputId": "265d3d41-79bb-4406-a6b3-7fff679424a8"
      },
      "execution_count": null,
      "outputs": [
        {
          "output_type": "stream",
          "name": "stdout",
          "text": [
            "Model: \"sequential\"\n",
            "_________________________________________________________________\n",
            " Layer (type)                Output Shape              Param #   \n",
            "=================================================================\n",
            " resizing (Resizing)         (None, 512, 64, 1)        0         \n",
            "                                                                 \n",
            " normalization (Normalizati  (None, 512, 64, 1)        3         \n",
            " on)                                                             \n",
            "                                                                 \n",
            " conv2d (Conv2D)             (None, 510, 62, 32)       320       \n",
            "                                                                 \n",
            " conv2d_1 (Conv2D)           (None, 508, 60, 64)       18496     \n",
            "                                                                 \n",
            " max_pooling2d (MaxPooling2  (None, 254, 30, 64)       0         \n",
            " D)                                                              \n",
            "                                                                 \n",
            " dropout (Dropout)           (None, 254, 30, 64)       0         \n",
            "                                                                 \n",
            " flatten (Flatten)           (None, 487680)            0         \n",
            "                                                                 \n",
            " dense (Dense)               (None, 128)               62423168  \n",
            "                                                                 \n",
            " dropout_1 (Dropout)         (None, 128)               0         \n",
            "                                                                 \n",
            " dense_1 (Dense)             (None, 2)                 258       \n",
            "                                                                 \n",
            "=================================================================\n",
            "Total params: 62442245 (238.20 MB)\n",
            "Trainable params: 62442242 (238.20 MB)\n",
            "Non-trainable params: 3 (16.00 Byte)\n",
            "_________________________________________________________________\n"
          ]
        }
      ]
    },
    {
      "cell_type": "code",
      "source": [
        "def evaluate_stream(BV, STEP_SIZE):\n",
        "  # Load audio file and parse marker file\n",
        "  wav_filepath = DIR_NAME + f\"xxm_mixed/{BV}.wav\"\n",
        "  audio_binary = tf.io.read_file(wav_filepath)\n",
        "  marker = np.loadtxt(\n",
        "    DIR_NAME + f\"xxm_mixed/{BV}.csv\",\n",
        "    delimiter=',')\n",
        "  marker = marker[:,0] * 3600 + marker[:,1] * 60 + marker[:,2]\n",
        "\n",
        "  # Decode audio and transform to spectrograms\n",
        "  audio, _ = tf.audio.decode_wav(audio_binary)\n",
        "  waveform = tf.squeeze(audio)\n",
        "\n",
        "  def get_spectrogram(waveform):\n",
        "      spectrogram = tf.signal.stft(\n",
        "          waveform, frame_length=255, frame_step=128)\n",
        "      # removes the phase (we only care about the magnitude)\n",
        "      spectrogram = tf.abs(spectrogram)\n",
        "      return spectrogram\n",
        "\n",
        "  pred_list = []\n",
        "  model_input_list = []\n",
        "\n",
        "  for i in range((len(waveform) - CHUNK_SAMPLE) // STEP_SIZE + 1):\n",
        "    wave_ith = waveform[i * STEP_SIZE : i * STEP_SIZE + CHUNK_SAMPLE]\n",
        "    model_input_list.append(tf.expand_dims(get_spectrogram(wave_ith), -1))\n",
        "\n",
        "  # Use model to predict\n",
        "  input_shape = model_input_list[0].shape\n",
        "  pred_list = model.predict(tf.reshape(model_input_list, (len(model_input_list), *input_shape)))\n",
        "  return marker, pred_list"
      ],
      "metadata": {
        "id": "QU51OtXWNLzV"
      },
      "execution_count": null,
      "outputs": []
    },
    {
      "cell_type": "code",
      "source": [
        "# # plot out one set for demonstration\n",
        "# STEP_SIZE = CHUNK_SAMPLE // 2\n",
        "# marker, pred_list = evaluate_stream(\"BV15z4y1M7ee\", STEP_SIZE)\n",
        "# pred_1D = pred_list[:,1] - pred_list[:,0]\n",
        "\n",
        "# start_idx = np.array([int((m-60) * SAMPLE_RATE / STEP_SIZE) for m in marker])\n",
        "# end_idx = np.array([int((m+90) * SAMPLE_RATE / STEP_SIZE) for m in marker])\n",
        "# input_size = end_idx[0] - start_idx[0]\n",
        "\n",
        "# # singings\n",
        "# singings = np.array([pred_1D[start_idx[i] : end_idx[i]] for i in range(len(marker))])\n",
        "\n",
        "# # speeches\n",
        "# speeches = []\n",
        "# for i in range(len(marker) - 1):\n",
        "#   for j in range((start_idx[i+1] - end_idx[i]) // input_size):\n",
        "#     speeches.append(pred_1D[end_idx[i] + j*input_size : end_idx[i] + (j+1)*input_size])\n",
        "# for i in range((len(pred_1D) - end_idx[-1]) // input_size):\n",
        "#   speeches.append(pred_1D[end_idx[-1] + i*input_size : end_idx[-1] + (i+1)*(input_size)])\n",
        "# speeches = np.array(random.sample(speeches, len(marker)))"
      ],
      "metadata": {
        "id": "Vq4mFMsxiYOt"
      },
      "execution_count": null,
      "outputs": []
    },
    {
      "cell_type": "code",
      "source": [
        "BV_list = set([re.findall(\"BV[0-9a-zA-Z]*\", _)[0] for _ in os.listdir(os.path.join(DIR_NAME, \"xxm_mixed\"))])\n",
        "BV_list"
      ],
      "metadata": {
        "id": "BCiEZEhdGaGY",
        "colab": {
          "base_uri": "https://localhost:8080/"
        },
        "outputId": "44113d04-c743-4884-9303-61aa2b4cc796"
      },
      "execution_count": null,
      "outputs": [
        {
          "output_type": "execute_result",
          "data": {
            "text/plain": [
              "{'BV15z4y1M7ee',\n",
              " 'BV1ST411t77z',\n",
              " 'BV1V84y1e7s9',\n",
              " 'BV1WN41167kE',\n",
              " 'BV1bT411S7ck',\n",
              " 'BV1mu4y1e7oL',\n",
              " 'BV1rD4y1A7PY',\n",
              " 'BV1sL411k71J',\n",
              " 'BV1uN411E7KD',\n",
              " 'BV1uk4y1F7nv'}"
            ]
          },
          "metadata": {},
          "execution_count": 7
        }
      ]
    },
    {
      "cell_type": "code",
      "source": [
        "\n",
        "STEP_SIZE = CHUNK_SAMPLE // 2\n",
        "\n",
        "for BV in BV_list:\n",
        "  marker, pred_list = evaluate_stream(BV, STEP_SIZE)\n",
        "  pred_1D = pred_list[:,1] - pred_list[:,0]\n",
        "\n",
        "  start_idx = np.array([int((m-60) * SAMPLE_RATE / STEP_SIZE) for m in marker])\n",
        "  end_idx = np.array([int((m+90) * SAMPLE_RATE / STEP_SIZE) for m in marker])\n",
        "  input_size = end_idx[0] - start_idx[0]\n",
        "\n",
        "  # print(\"start idx\", start_idx)\n",
        "  # print(\"end idx\", end_idx)\n",
        "  # print(\"intervals\", end_idx-start_idx)\n",
        "  # print(\"input size\", input_size)\n",
        "\n",
        "  # singings\n",
        "  singings = np.array([pred_1D[start_idx[i] : end_idx[i]] for i in range(len(marker))])\n",
        "\n",
        "  # speeches\n",
        "  speeches = []\n",
        "  for i in range(len(marker) - 1):\n",
        "    for j in range((start_idx[i+1] - end_idx[i]) // input_size):\n",
        "      speeches.append(pred_1D[end_idx[i] + j*input_size : end_idx[i] + (j+1)*input_size])\n",
        "  for i in range((len(pred_1D) - end_idx[-1]) // input_size):\n",
        "    speeches.append(pred_1D[end_idx[-1] + i*input_size : end_idx[-1] + (i+1)*(input_size)])\n",
        "  speeches = np.array(random.sample(speeches, len(marker)))\n",
        "\n",
        "  print(BV, \"singing\", singings.shape, \"speech\", speeches.shape)\n",
        "  break\n",
        "  # save to drive\n",
        "  # np.save(DIR_NAME + \"pred_series/singing/\" + f\"{BV}.npy\", singings)\n",
        "  # np.save(DIR_NAME + \"pred_series/speech/\" + f\"{BV}.npy\", speeches)\n"
      ],
      "metadata": {
        "id": "HKqLp8KOQf23",
        "colab": {
          "base_uri": "https://localhost:8080/"
        },
        "outputId": "049c4f18-a43f-4b24-838a-def5a0e5a6d5"
      },
      "execution_count": null,
      "outputs": [
        {
          "output_type": "stream",
          "name": "stdout",
          "text": [
            "97/97 [==============================] - 10s 22ms/step\n",
            "BV1rD4y1A7PY singing (17, 50) speech (17, 50)\n"
          ]
        }
      ]
    },
    {
      "cell_type": "code",
      "source": [
        "end_idx[1], start_idx[2]"
      ],
      "metadata": {
        "colab": {
          "base_uri": "https://localhost:8080/"
        },
        "id": "HXfn4ldWFxs5",
        "outputId": "a2a42eb1-5fc5-45fc-e27f-ae763c418c77"
      },
      "execution_count": null,
      "outputs": [
        {
          "output_type": "execute_result",
          "data": {
            "text/plain": [
              "(472, 578)"
            ]
          },
          "metadata": {},
          "execution_count": 28
        }
      ]
    },
    {
      "cell_type": "code",
      "source": [
        "# Example\n",
        "speech_time = np.linspace(end_idx[13], end_idx[13]+49, 50) * 3\n",
        "plt.plot(speech_time, pred_1D[end_idx[13]:end_idx[13]+50], c='g', alpha=0.5, label=\"CNN_clf_out\")\n",
        "plt.legend()\n",
        "plt.title(\"BV15z4y1M7ee negative input example\")\n",
        "plt.show()\n",
        "speech_time"
      ],
      "metadata": {
        "colab": {
          "base_uri": "https://localhost:8080/",
          "height": 559
        },
        "id": "Wd23ECBdFCF6",
        "outputId": "a9730232-7998-4613-e0b3-1274a762c387"
      },
      "execution_count": null,
      "outputs": [
        {
          "output_type": "display_data",
          "data": {
            "text/plain": [
              "<Figure size 640x480 with 1 Axes>"
            ],
            "image/png": "[encoded data removed]"
          },
          "metadata": {}
        },
        {
          "output_type": "execute_result",
          "data": {
            "text/plain": [
              "array([6264., 6267., 6270., 6273., 6276., 6279., 6282., 6285., 6288.,\n",
              "       6291., 6294., 6297., 6300., 6303., 6306., 6309., 6312., 6315.,\n",
              "       6318., 6321., 6324., 6327., 6330., 6333., 6336., 6339., 6342.,\n",
              "       6345., 6348., 6351., 6354., 6357., 6360., 6363., 6366., 6369.,\n",
              "       6372., 6375., 6378., 6381., 6384., 6387., 6390., 6393., 6396.,\n",
              "       6399., 6402., 6405., 6408., 6411.])"
            ]
          },
          "metadata": {},
          "execution_count": 43
        }
      ]
    },
    {
      "cell_type": "code",
      "source": [
        "speech_example = speeches[0]\n",
        "plt.plot(speech_time, speech_example)\n",
        "print(speech_time)"
      ],
      "metadata": {
        "colab": {
          "base_uri": "https://localhost:8080/",
          "height": 501
        },
        "id": "5aB6Ee4TEelJ",
        "outputId": "863698c3-8dc8-4fce-c45a-1d36b8ad4f74"
      },
      "execution_count": null,
      "outputs": [
        {
          "output_type": "stream",
          "name": "stdout",
          "text": [
            "[316. 317. 318. 319. 320. 321. 322. 323. 324. 325. 326. 327. 328. 329.\n",
            " 330. 331. 332. 333. 334. 335. 336. 337. 338. 339. 340. 341. 342. 343.\n",
            " 344. 345. 346. 347. 348. 349. 350. 351. 352. 353. 354. 355. 356. 357.\n",
            " 358. 359. 360. 361. 362. 363. 364. 365.]\n"
          ]
        },
        {
          "output_type": "display_data",
          "data": {
            "text/plain": [
              "<Figure size 640x480 with 1 Axes>"
            ],
            "image/png": "[encoded data removed]"
          },
          "metadata": {}
        }
      ]
    }
  ]
}