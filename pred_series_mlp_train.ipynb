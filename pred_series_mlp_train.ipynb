{
  "nbformat": 4,
  "nbformat_minor": 0,
  "metadata": {
    "colab": {
      "provenance": [],
      "gpuType": "T4",
      "authorship_tag": "ABX9TyOKY8geLyiFN1Vvv0r6CC3j",
      "include_colab_link": true
    },
    "kernelspec": {
      "name": "python3",
      "display_name": "Python 3"
    },
    "language_info": {
      "name": "python"
    },
    "accelerator": "GPU"
  },
  "cells": [
    {
      "cell_type": "markdown",
      "metadata": {
        "id": "view-in-github",
        "colab_type": "text"
      },
      "source": [
        "<a href=\"https://colab.research.google.com/github/EricEricEricJin/ECE539-Group-Project/blob/master/pred_series_mlp_train.ipynb\" target=\"_parent\"><img src=\"https://colab.research.google.com/assets/colab-badge.svg\" alt=\"Open In Colab\"/></a>"
      ]
    },
    {
      "cell_type": "code",
      "execution_count": null,
      "metadata": {
        "colab": {
          "base_uri": "https://localhost:8080/"
        },
        "id": "enTx3nV_tEb-",
        "outputId": "3af3b460-beb6-4ccc-fa05-15a66b748134"
      },
      "outputs": [
        {
          "output_type": "stream",
          "name": "stdout",
          "text": [
            "Drive already mounted at /content/drive; to attempt to forcibly remount, call drive.mount(\"/content/drive\", force_remount=True).\n"
          ]
        }
      ],
      "source": [
        "from google.colab import drive\n",
        "drive.mount(\"/content/drive\")\n",
        "\n",
        "import numpy as np\n",
        "import matplotlib.pyplot as plt\n",
        "from sklearn.model_selection import train_test_split\n",
        "import tensorflow as tf\n",
        "import tensorflow.keras as keras\n",
        "\n",
        "import os\n",
        "import datetime"
      ]
    },
    {
      "cell_type": "code",
      "source": [
        "# Load dataset\n",
        "\n",
        "DIR_NAME = \"/content/drive/My Drive/Colab Notebooks/ECE539_Project/\"\n",
        "\n",
        "def get_series_labels():\n",
        "  series = []\n",
        "  labels = []\n",
        "  for dirname, _, filenames in os.walk(DIR_NAME + \"pred_series\"):\n",
        "    if (\"singing\" in dirname or \"speech\" in dirname):\n",
        "      for filename in filenames:\n",
        "        for row in np.load(os.path.join(dirname, filename)):\n",
        "          series.append(row)\n",
        "          labels.append([0, 1] if \"singing\" in dirname else [1, 0])\n",
        "  return series, labels\n",
        "\n",
        "series, labels = get_series_labels()\n",
        "series_ds = tf.data.Dataset.from_tensor_slices((series, labels))\n",
        "print(\"Number of data\", len(series_ds))\n",
        "\n",
        "for _ in series_ds.take(1):\n",
        "  input_size = len(_[0])\n",
        "print(\"Input size\", input_size)"
      ],
      "metadata": {
        "colab": {
          "base_uri": "https://localhost:8080/"
        },
        "id": "i5_qSQBNtfs6",
        "outputId": "039fc821-45cd-42a5-c9ce-28396bcba818"
      },
      "execution_count": null,
      "outputs": [
        {
          "output_type": "stream",
          "name": "stdout",
          "text": [
            "Number of data 152\n",
            "Input size 50\n"
          ]
        }
      ]
    },
    {
      "cell_type": "code",
      "source": [
        "# Train test splittion\n",
        "batch_size = 8\n",
        "series_ds_batched = series_ds.batch(batch_size)\n",
        "train_ds, val_ds = keras.utils.split_dataset(series_ds_batched, left_size=0.8)\n",
        "# train_ds = train_ds.batch(batch_size)\n",
        "# val_ds = val_ds.batch(batch_size)"
      ],
      "metadata": {
        "id": "6ykCEa-b4oIN"
      },
      "execution_count": null,
      "outputs": []
    },
    {
      "cell_type": "code",
      "source": [
        "# Develop a three-layer MLP with 50 inputs and 2 outputs\n",
        "model = keras.models.Sequential()\n",
        "model.add(keras.layers.Dense(50, input_dim=input_size, activation=\"ReLU\"))\n",
        "model.add(keras.layers.Dense(60, activation=\"ReLU\"))\n",
        "model.add(keras.layers.Dense(50, activation=\"ReLU\"))\n",
        "model.add(keras.layers.Dense(2, activation=\"softmax\"))\n",
        "model.compile(loss='binary_crossentropy', optimizer='adam',\n",
        "            metrics=['accuracy'])\n",
        "\n",
        "EPOCHS = 50\n",
        "\n",
        "checkpoint_filepath = f\"/content/drive/My Drive/Colab Notebooks/ECE539_Project/pred_series_mlp_weights_{str(datetime.date.today())}\"\n",
        "checkpoint_callback = keras.callbacks.ModelCheckpoint(\n",
        "    filepath=checkpoint_filepath,\n",
        "    save_weights_only=False,\n",
        "    monitor='val_accuracy',\n",
        "    mode='max',\n",
        "    save_best_only=True)\n",
        "\n",
        "earlystop_callback = keras.callbacks.EarlyStopping(verbose=1, patience=30)\n",
        "\n",
        "\n",
        "history = model.fit(\n",
        "    train_ds,\n",
        "    validation_data=val_ds,\n",
        "    epochs=EPOCHS,\n",
        "    callbacks=[earlystop_callback, checkpoint_callback],\n",
        ")"
      ],
      "metadata": {
        "colab": {
          "base_uri": "https://localhost:8080/"
        },
        "id": "RMo7cJpEytme",
        "outputId": "52565efc-41c6-4c15-b8d6-1bb674875905"
      },
      "execution_count": null,
      "outputs": [
        {
          "output_type": "stream",
          "name": "stdout",
          "text": [
            "Epoch 1/50\n",
            "16/16 [==============================] - 3s 79ms/step - loss: 0.8121 - accuracy: 0.5000 - val_loss: 1.1832 - val_accuracy: 0.0000e+00\n",
            "Epoch 2/50\n",
            "16/16 [==============================] - 1s 65ms/step - loss: 0.3507 - accuracy: 0.8770 - val_loss: 0.6139 - val_accuracy: 0.7000\n",
            "Epoch 3/50\n",
            "16/16 [==============================] - 1s 66ms/step - loss: 0.2677 - accuracy: 0.9508 - val_loss: 0.3918 - val_accuracy: 0.8333\n",
            "Epoch 4/50\n",
            "16/16 [==============================] - 1s 46ms/step - loss: 0.2062 - accuracy: 0.9508 - val_loss: 0.2917 - val_accuracy: 0.8667\n",
            "Epoch 5/50\n",
            "16/16 [==============================] - 1s 50ms/step - loss: 0.1657 - accuracy: 0.9590 - val_loss: 0.2379 - val_accuracy: 0.9333\n",
            "Epoch 6/50\n",
            "16/16 [==============================] - 0s 5ms/step - loss: 0.1424 - accuracy: 0.9672 - val_loss: 0.2205 - val_accuracy: 0.9333\n",
            "Epoch 7/50\n",
            "16/16 [==============================] - 0s 6ms/step - loss: 0.1272 - accuracy: 0.9754 - val_loss: 0.2236 - val_accuracy: 0.9333\n",
            "Epoch 8/50\n",
            "16/16 [==============================] - 0s 5ms/step - loss: 0.1118 - accuracy: 0.9754 - val_loss: 0.2235 - val_accuracy: 0.9333\n",
            "Epoch 9/50\n",
            "16/16 [==============================] - 0s 5ms/step - loss: 0.1000 - accuracy: 0.9754 - val_loss: 0.2262 - val_accuracy: 0.9333\n",
            "Epoch 10/50\n",
            "16/16 [==============================] - 0s 5ms/step - loss: 0.0916 - accuracy: 0.9836 - val_loss: 0.2338 - val_accuracy: 0.9333\n",
            "Epoch 11/50\n",
            "16/16 [==============================] - 0s 5ms/step - loss: 0.0822 - accuracy: 0.9836 - val_loss: 0.2389 - val_accuracy: 0.9333\n",
            "Epoch 12/50\n",
            "16/16 [==============================] - 0s 5ms/step - loss: 0.0752 - accuracy: 0.9836 - val_loss: 0.2457 - val_accuracy: 0.9333\n",
            "Epoch 13/50\n",
            "16/16 [==============================] - 0s 5ms/step - loss: 0.0659 - accuracy: 0.9836 - val_loss: 0.2490 - val_accuracy: 0.9333\n",
            "Epoch 14/50\n",
            "16/16 [==============================] - 0s 4ms/step - loss: 0.0609 - accuracy: 0.9836 - val_loss: 0.2550 - val_accuracy: 0.9333\n",
            "Epoch 15/50\n",
            "16/16 [==============================] - 0s 5ms/step - loss: 0.0547 - accuracy: 0.9836 - val_loss: 0.2662 - val_accuracy: 0.9333\n",
            "Epoch 16/50\n",
            "16/16 [==============================] - 0s 5ms/step - loss: 0.0472 - accuracy: 0.9836 - val_loss: 0.2683 - val_accuracy: 0.9333\n",
            "Epoch 17/50\n",
            "16/16 [==============================] - 0s 5ms/step - loss: 0.0443 - accuracy: 0.9836 - val_loss: 0.2875 - val_accuracy: 0.9333\n",
            "Epoch 18/50\n",
            "16/16 [==============================] - 0s 4ms/step - loss: 0.0346 - accuracy: 0.9918 - val_loss: 0.2843 - val_accuracy: 0.9000\n",
            "Epoch 19/50\n",
            "16/16 [==============================] - 0s 4ms/step - loss: 0.0338 - accuracy: 0.9918 - val_loss: 0.3057 - val_accuracy: 0.9000\n",
            "Epoch 20/50\n",
            "16/16 [==============================] - 0s 5ms/step - loss: 0.0273 - accuracy: 0.9918 - val_loss: 0.3110 - val_accuracy: 0.9000\n",
            "Epoch 21/50\n",
            "16/16 [==============================] - 0s 6ms/step - loss: 0.0233 - accuracy: 0.9918 - val_loss: 0.3198 - val_accuracy: 0.9000\n",
            "Epoch 22/50\n",
            "16/16 [==============================] - 0s 5ms/step - loss: 0.0188 - accuracy: 1.0000 - val_loss: 0.3199 - val_accuracy: 0.9000\n",
            "Epoch 23/50\n",
            "16/16 [==============================] - 0s 5ms/step - loss: 0.0177 - accuracy: 1.0000 - val_loss: 0.3349 - val_accuracy: 0.9000\n",
            "Epoch 24/50\n",
            "16/16 [==============================] - 0s 5ms/step - loss: 0.0137 - accuracy: 1.0000 - val_loss: 0.3335 - val_accuracy: 0.9000\n",
            "Epoch 25/50\n",
            "16/16 [==============================] - 0s 5ms/step - loss: 0.0136 - accuracy: 1.0000 - val_loss: 0.3549 - val_accuracy: 0.9000\n",
            "Epoch 26/50\n",
            "16/16 [==============================] - 0s 5ms/step - loss: 0.0097 - accuracy: 1.0000 - val_loss: 0.3468 - val_accuracy: 0.9000\n",
            "Epoch 27/50\n",
            "16/16 [==============================] - 0s 5ms/step - loss: 0.0100 - accuracy: 1.0000 - val_loss: 0.3683 - val_accuracy: 0.9000\n",
            "Epoch 28/50\n",
            "16/16 [==============================] - 0s 5ms/step - loss: 0.0073 - accuracy: 1.0000 - val_loss: 0.3629 - val_accuracy: 0.9000\n",
            "Epoch 29/50\n",
            "16/16 [==============================] - 0s 5ms/step - loss: 0.0077 - accuracy: 1.0000 - val_loss: 0.3846 - val_accuracy: 0.9000\n",
            "Epoch 30/50\n",
            "16/16 [==============================] - 0s 5ms/step - loss: 0.0057 - accuracy: 1.0000 - val_loss: 0.3786 - val_accuracy: 0.9000\n",
            "Epoch 31/50\n",
            "16/16 [==============================] - 0s 5ms/step - loss: 0.0059 - accuracy: 1.0000 - val_loss: 0.3967 - val_accuracy: 0.9000\n",
            "Epoch 32/50\n",
            "16/16 [==============================] - 0s 5ms/step - loss: 0.0045 - accuracy: 1.0000 - val_loss: 0.3937 - val_accuracy: 0.9000\n",
            "Epoch 33/50\n",
            "16/16 [==============================] - 0s 5ms/step - loss: 0.0049 - accuracy: 1.0000 - val_loss: 0.4127 - val_accuracy: 0.9000\n",
            "Epoch 34/50\n",
            "16/16 [==============================] - 0s 5ms/step - loss: 0.0037 - accuracy: 1.0000 - val_loss: 0.4063 - val_accuracy: 0.9000\n",
            "Epoch 35/50\n",
            "16/16 [==============================] - 0s 6ms/step - loss: 0.0038 - accuracy: 1.0000 - val_loss: 0.4212 - val_accuracy: 0.9000\n",
            "Epoch 36/50\n",
            "16/16 [==============================] - 0s 5ms/step - loss: 0.0031 - accuracy: 1.0000 - val_loss: 0.4216 - val_accuracy: 0.9000\n",
            "Epoch 36: early stopping\n"
          ]
        }
      ]
    }
  ]
}