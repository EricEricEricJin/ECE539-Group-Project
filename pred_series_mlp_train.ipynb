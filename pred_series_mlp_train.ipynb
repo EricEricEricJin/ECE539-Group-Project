{
  "nbformat": 4,
  "nbformat_minor": 0,
  "metadata": {
    "colab": {
      "provenance": [],
      "authorship_tag": "ABX9TyNwa0pqoV085zUlEEek6V5c",
      "include_colab_link": true
    },
    "kernelspec": {
      "name": "python3",
      "display_name": "Python 3"
    },
    "language_info": {
      "name": "python"
    }
  },
  "cells": [
    {
      "cell_type": "markdown",
      "metadata": {
        "id": "view-in-github",
        "colab_type": "text"
      },
      "source": [
        "<a href=\"https://colab.research.google.com/github/EricEricEricJin/ECE539-Group-Project/blob/master/pred_series_mlp_train.ipynb\" target=\"_parent\"><img src=\"https://colab.research.google.com/assets/colab-badge.svg\" alt=\"Open In Colab\"/></a>"
      ]
    },
    {
      "cell_type": "code",
      "execution_count": 2,
      "metadata": {
        "colab": {
          "base_uri": "https://localhost:8080/"
        },
        "id": "enTx3nV_tEb-",
        "outputId": "abed582c-038e-4cd9-e469-7128c9687864"
      },
      "outputs": [
        {
          "output_type": "stream",
          "name": "stdout",
          "text": [
            "Mounted at /content/drive\n"
          ]
        }
      ],
      "source": [
        "from google.colab import drive\n",
        "drive.mount(\"/content/drive\")\n",
        "\n",
        "import numpy as np\n",
        "import matplotlib.pyplot as plt\n",
        "from sklearn.model_selection import train_test_split\n",
        "import tensorflow as tf\n",
        "import tensorflow.keras as keras\n",
        "\n",
        "import os"
      ]
    },
    {
      "cell_type": "code",
      "source": [
        "# Load dataset\n",
        "\n",
        "DIR_NAME = \"/content/drive/My Drive/Colab Notebooks/ECE539_Project/\"\n",
        "\n",
        "def get_series_labels():\n",
        "  series = []\n",
        "  labels = []\n",
        "  for dirname, _, filenames in os.walk(DIR_NAME + \"pred_series\"):\n",
        "    if (\"singing\" in dirname or \"speech\" in dirname):\n",
        "      for filename in filenames:\n",
        "        for row in np.load(os.path.join(dirname, filename)):\n",
        "          series.append(row)\n",
        "          labels.append([0, 1] if \"singing\" in dirname else [1, 0])\n",
        "  return series, labels\n",
        "\n",
        "series, labels = get_series_labels()\n",
        "series_ds = tf.data.Dataset.from_tensor_slices((series, labels))\n",
        "print(\"Number of data\", len(series_ds))\n",
        "\n",
        "for _ in series_ds.take(1):\n",
        "  input_size = len(_[0])\n",
        "print(\"Input size\", input_size)"
      ],
      "metadata": {
        "colab": {
          "base_uri": "https://localhost:8080/"
        },
        "id": "i5_qSQBNtfs6",
        "outputId": "3524109a-83e4-45c3-f85a-53b2759558c5"
      },
      "execution_count": 3,
      "outputs": [
        {
          "output_type": "stream",
          "name": "stdout",
          "text": [
            "Number of data 116\n",
            "Input size 50\n"
          ]
        }
      ]
    },
    {
      "cell_type": "code",
      "source": [
        "# Train test splittion\n",
        "batch_size = 8\n",
        "series_ds_batched = series_ds.batch(batch_size)\n",
        "train_ds, val_ds = keras.utils.split_dataset(series_ds_batched, left_size=0.8)\n",
        "# train_ds = train_ds.batch(batch_size)\n",
        "# val_ds = val_ds.batch(batch_size)"
      ],
      "metadata": {
        "id": "6ykCEa-b4oIN"
      },
      "execution_count": 4,
      "outputs": []
    },
    {
      "cell_type": "code",
      "source": [
        "# Develop a three-layer MLP with 50 inputs and 2 outputs\n",
        "model = keras.models.Sequential()\n",
        "model.add(keras.layers.Dense(50, input_dim=input_size, activation=\"ReLU\"))\n",
        "model.add(keras.layers.Dense(60, activation=\"ReLU\"))\n",
        "model.add(keras.layers.Dense(50, activation=\"ReLU\"))\n",
        "model.add(keras.layers.Dense(2, activation=\"softmax\"))\n",
        "model.compile(loss='binary_crossentropy', optimizer='adam',\n",
        "            metrics=['accuracy'])\n",
        "\n",
        "EPOCHS = 50\n",
        "\n",
        "checkpoint_filepath = f\"/content/drive/My Drive/Colab Notebooks/ECE539_Project/pred_series_mlp_weights\"\n",
        "checkpoint_callback = keras.callbacks.ModelCheckpoint(\n",
        "    filepath=checkpoint_filepath,\n",
        "    save_weights_only=False,\n",
        "    monitor='val_accuracy',\n",
        "    mode='max',\n",
        "    save_best_only=True)\n",
        "\n",
        "earlystop_callback = keras.callbacks.EarlyStopping(verbose=1, patience=10)\n",
        "\n",
        "\n",
        "history = model.fit(\n",
        "    train_ds,\n",
        "    validation_data=val_ds,\n",
        "    epochs=EPOCHS,\n",
        "    callbacks=[earlystop_callback, checkpoint_callback],\n",
        ")"
      ],
      "metadata": {
        "colab": {
          "base_uri": "https://localhost:8080/"
        },
        "id": "RMo7cJpEytme",
        "outputId": "200bcde1-b3ed-4b80-8f8e-d5aa2fb7121b"
      },
      "execution_count": 5,
      "outputs": [
        {
          "output_type": "stream",
          "name": "stdout",
          "text": [
            "Epoch 1/50\n",
            "12/12 [==============================] - 3s 163ms/step - loss: 0.9988 - accuracy: 0.5484 - val_loss: 1.9195 - val_accuracy: 0.0000e+00\n",
            "Epoch 2/50\n",
            "12/12 [==============================] - 1s 76ms/step - loss: 0.4226 - accuracy: 0.7849 - val_loss: 0.6958 - val_accuracy: 0.6522\n",
            "Epoch 3/50\n",
            "12/12 [==============================] - 1s 76ms/step - loss: 0.2907 - accuracy: 0.9462 - val_loss: 0.3889 - val_accuracy: 0.9130\n",
            "Epoch 4/50\n",
            "12/12 [==============================] - 0s 4ms/step - loss: 0.2382 - accuracy: 0.9462 - val_loss: 0.3181 - val_accuracy: 0.9130\n",
            "Epoch 5/50\n",
            "12/12 [==============================] - 0s 4ms/step - loss: 0.1918 - accuracy: 0.9570 - val_loss: 0.3119 - val_accuracy: 0.9130\n",
            "Epoch 6/50\n",
            "12/12 [==============================] - 0s 4ms/step - loss: 0.1547 - accuracy: 0.9785 - val_loss: 0.3088 - val_accuracy: 0.9130\n",
            "Epoch 7/50\n",
            "12/12 [==============================] - 0s 4ms/step - loss: 0.1270 - accuracy: 0.9892 - val_loss: 0.3058 - val_accuracy: 0.9130\n",
            "Epoch 8/50\n",
            "12/12 [==============================] - 0s 5ms/step - loss: 0.1043 - accuracy: 0.9892 - val_loss: 0.3062 - val_accuracy: 0.9130\n",
            "Epoch 9/50\n",
            "12/12 [==============================] - 0s 4ms/step - loss: 0.0876 - accuracy: 0.9892 - val_loss: 0.3107 - val_accuracy: 0.9130\n",
            "Epoch 10/50\n",
            "12/12 [==============================] - 0s 5ms/step - loss: 0.0744 - accuracy: 0.9892 - val_loss: 0.3219 - val_accuracy: 0.9130\n",
            "Epoch 11/50\n",
            "12/12 [==============================] - 0s 4ms/step - loss: 0.0633 - accuracy: 0.9892 - val_loss: 0.3288 - val_accuracy: 0.9130\n",
            "Epoch 12/50\n",
            "12/12 [==============================] - 0s 4ms/step - loss: 0.0535 - accuracy: 0.9892 - val_loss: 0.3386 - val_accuracy: 0.9130\n",
            "Epoch 13/50\n",
            "12/12 [==============================] - 0s 4ms/step - loss: 0.0462 - accuracy: 0.9892 - val_loss: 0.3483 - val_accuracy: 0.8696\n",
            "Epoch 14/50\n",
            "12/12 [==============================] - 0s 4ms/step - loss: 0.0387 - accuracy: 0.9892 - val_loss: 0.3537 - val_accuracy: 0.8696\n",
            "Epoch 15/50\n",
            "12/12 [==============================] - 0s 3ms/step - loss: 0.0338 - accuracy: 0.9892 - val_loss: 0.3655 - val_accuracy: 0.8696\n",
            "Epoch 16/50\n",
            "12/12 [==============================] - 0s 4ms/step - loss: 0.0279 - accuracy: 1.0000 - val_loss: 0.3723 - val_accuracy: 0.8696\n",
            "Epoch 17/50\n",
            "12/12 [==============================] - 0s 5ms/step - loss: 0.0240 - accuracy: 1.0000 - val_loss: 0.3808 - val_accuracy: 0.8696\n",
            "Epoch 17: early stopping\n"
          ]
        }
      ]
    }
  ]
}