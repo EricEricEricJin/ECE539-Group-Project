{
  "nbformat": 4,
  "nbformat_minor": 0,
  "metadata": {
    "colab": {
      "provenance": [],
      "gpuType": "T4",
      "authorship_tag": "ABX9TyMUclLl2nP/cjzm1Y5LveAO",
      "include_colab_link": true
    },
    "kernelspec": {
      "name": "python3",
      "display_name": "Python 3"
    },
    "language_info": {
      "name": "python"
    },
    "accelerator": "GPU"
  },
  "cells": [
    {
      "cell_type": "markdown",
      "metadata": {
        "id": "view-in-github",
        "colab_type": "text"
      },
      "source": [
        "<a href=\"https://colab.research.google.com/github/EricEricEricJin/ECE539-Group-Project/blob/master/pred_series_mlp_train.ipynb\" target=\"_parent\"><img src=\"https://colab.research.google.com/assets/colab-badge.svg\" alt=\"Open In Colab\"/></a>"
      ]
    },
    {
      "cell_type": "code",
      "execution_count": null,
      "metadata": {
        "colab": {
          "base_uri": "https://localhost:8080/"
        },
        "id": "enTx3nV_tEb-",
        "outputId": "8f53c696-e550-4331-b2c7-2b6c4f7b1aee"
      },
      "outputs": [
        {
          "output_type": "stream",
          "name": "stdout",
          "text": [
            "Drive already mounted at /content/drive; to attempt to forcibly remount, call drive.mount(\"/content/drive\", force_remount=True).\n"
          ]
        }
      ],
      "source": [
        "from google.colab import drive\n",
        "drive.mount(\"/content/drive\")\n",
        "\n",
        "import numpy as np\n",
        "import matplotlib.pyplot as plt\n",
        "from sklearn.model_selection import train_test_split\n",
        "import tensorflow as tf\n",
        "import tensorflow.keras as keras\n",
        "\n",
        "import os\n",
        "import datetime"
      ]
    },
    {
      "cell_type": "code",
      "source": [
        "# Load dataset\n",
        "\n",
        "DIR_NAME = \"/content/drive/My Drive/Colab Notebooks/ECE539_Project/\"\n",
        "\n",
        "def get_series_labels():\n",
        "  series = []\n",
        "  labels = []\n",
        "  for dirname, _, filenames in os.walk(DIR_NAME + \"pred_series\"):\n",
        "    if (\"singing\" in dirname or \"speech\" in dirname):\n",
        "      for filename in filenames:\n",
        "        for row in np.load(os.path.join(dirname, filename)):\n",
        "          series.append(row)\n",
        "          labels.append([0, 1] if \"singing\" in dirname else [1, 0])\n",
        "  return series, labels\n",
        "\n",
        "series, labels = get_series_labels()\n",
        "series_ds = tf.data.Dataset.from_tensor_slices((series, labels))\n",
        "print(\"Number of data\", len(series_ds))\n",
        "\n",
        "for _ in series_ds.take(1):\n",
        "  input_size = len(_[0])\n",
        "print(\"Input size\", input_size)"
      ],
      "metadata": {
        "colab": {
          "base_uri": "https://localhost:8080/"
        },
        "id": "i5_qSQBNtfs6",
        "outputId": "913a3d94-fae6-4777-b0e3-22d787e94757"
      },
      "execution_count": null,
      "outputs": [
        {
          "output_type": "stream",
          "name": "stdout",
          "text": [
            "Number of data 350\n",
            "Input size 50\n"
          ]
        }
      ]
    },
    {
      "cell_type": "code",
      "source": [
        "# Train test splittion\n",
        "batch_size = 8\n",
        "series_ds_batched = series_ds.batch(batch_size)\n",
        "train_ds, val_ds = keras.utils.split_dataset(series_ds_batched, left_size=0.8)\n",
        "# train_ds = train_ds.batch(batch_size)\n",
        "# val_ds = val_ds.batch(batch_size)"
      ],
      "metadata": {
        "id": "6ykCEa-b4oIN"
      },
      "execution_count": null,
      "outputs": []
    },
    {
      "cell_type": "code",
      "source": [
        "# Develop a three-layer MLP with 50 inputs and 2 outputs\n",
        "\n",
        "# Use MLP\n",
        "# model = keras.models.Sequential()\n",
        "# model.add(keras.layers.Dense(50, input_dim=input_size, activation=\"ReLU\"))\n",
        "# model.add(keras.layers.Dense(60, activation=\"ReLU\"))\n",
        "# model.add(keras.layers.Dense(50, activation=\"ReLU\"))\n",
        "# model.add(keras.layers.Dense(2, activation=\"softmax\"))\n",
        "# model.compile(loss='binary_crossentropy', optimizer='adam',\n",
        "#             metrics=['accuracy'])\n",
        "\n",
        "# Use LSTM\n",
        "model = keras.models.Sequential()\n",
        "model.add(keras.layers.LSTM(32, input_shape=(input_size, 1)))\n",
        "model.add(keras.layers.Dense(2, activation=\"softmax\"))\n",
        "model.compile(loss='binary_crossentropy', optimizer='adam',\n",
        "            metrics='accuracy')\n",
        "model.summary()\n",
        "# model.compile(optimizer=keras.optimizers.Adam(learning_rate=0.001), loss=\"mse\")\n",
        "EPOCHS = 100\n",
        "\n",
        "checkpoint_filepath = f\"/content/drive/My Drive/Colab Notebooks/ECE539_Project/pred_series_lstm_weights\"\n",
        "checkpoint_callback = keras.callbacks.ModelCheckpoint(\n",
        "    filepath=checkpoint_filepath,\n",
        "    save_weights_only=False,\n",
        "    monitor='val_accuracy',\n",
        "    mode='max',\n",
        "    save_best_only=True)\n",
        "earlystop_callback = keras.callbacks.EarlyStopping(verbose=1, patience=10)\n",
        "\n",
        "history = model.fit(\n",
        "    train_ds,\n",
        "    validation_data=val_ds,\n",
        "    epochs=EPOCHS,\n",
        "    callbacks=[earlystop_callback, checkpoint_callback],\n",
        ")\n",
        "\n",
        "plt.plot(history.history[\"val_accuracy\"], label=\"val_accuracy\")\n",
        "plt.plot(history.history[\"val_loss\"], label=\"val_loss\")\n",
        "plt.legend()\n",
        "plt.show()"
      ],
      "metadata": {
        "colab": {
          "base_uri": "https://localhost:8080/",
          "height": 1000
        },
        "id": "RMo7cJpEytme",
        "outputId": "f945b4ea-e388-4dc6-f82b-7ab92cfe5336"
      },
      "execution_count": null,
      "outputs": [
        {
          "output_type": "stream",
          "name": "stdout",
          "text": [
            "Model: \"sequential_4\"\n",
            "_________________________________________________________________\n",
            " Layer (type)                Output Shape              Param #   \n",
            "=================================================================\n",
            " lstm_4 (LSTM)               (None, 32)                4352      \n",
            "                                                                 \n",
            " dense_4 (Dense)             (None, 2)                 66        \n",
            "                                                                 \n",
            "=================================================================\n",
            "Total params: 4418 (17.26 KB)\n",
            "Trainable params: 4418 (17.26 KB)\n",
            "Non-trainable params: 0 (0.00 Byte)\n",
            "_________________________________________________________________\n",
            "Epoch 1/100\n",
            "35/35 [==============================] - 5s 95ms/step - loss: 0.6885 - accuracy: 0.6857 - val_loss: 0.6655 - val_accuracy: 0.7286\n",
            "Epoch 2/100\n",
            "35/35 [==============================] - 3s 100ms/step - loss: 0.5830 - accuracy: 0.8036 - val_loss: 0.6121 - val_accuracy: 0.7571\n",
            "Epoch 3/100\n",
            "35/35 [==============================] - 0s 7ms/step - loss: 0.5202 - accuracy: 0.8071 - val_loss: 0.5574 - val_accuracy: 0.7571\n",
            "Epoch 4/100\n",
            "35/35 [==============================] - 0s 9ms/step - loss: 0.4568 - accuracy: 0.8179 - val_loss: 0.5010 - val_accuracy: 0.7571\n",
            "Epoch 5/100\n",
            "35/35 [==============================] - 4s 123ms/step - loss: 0.3434 - accuracy: 0.8679 - val_loss: 0.4832 - val_accuracy: 0.8571\n",
            "Epoch 6/100\n",
            "35/35 [==============================] - 0s 10ms/step - loss: 0.2730 - accuracy: 0.9036 - val_loss: 0.4482 - val_accuracy: 0.8286\n",
            "Epoch 7/100\n",
            "35/35 [==============================] - 0s 7ms/step - loss: 0.3137 - accuracy: 0.8893 - val_loss: 0.4563 - val_accuracy: 0.8571\n",
            "Epoch 8/100\n",
            "35/35 [==============================] - 0s 7ms/step - loss: 0.3895 - accuracy: 0.8500 - val_loss: 0.5189 - val_accuracy: 0.8571\n",
            "Epoch 9/100\n",
            "35/35 [==============================] - 0s 7ms/step - loss: 0.2683 - accuracy: 0.9071 - val_loss: 0.5122 - val_accuracy: 0.8429\n",
            "Epoch 10/100\n",
            "35/35 [==============================] - 0s 6ms/step - loss: 0.2791 - accuracy: 0.8929 - val_loss: 0.4956 - val_accuracy: 0.8429\n",
            "Epoch 11/100\n",
            "35/35 [==============================] - 0s 8ms/step - loss: 0.2799 - accuracy: 0.8893 - val_loss: 0.4606 - val_accuracy: 0.8429\n",
            "Epoch 12/100\n",
            "35/35 [==============================] - 0s 6ms/step - loss: 0.2662 - accuracy: 0.8929 - val_loss: 0.4445 - val_accuracy: 0.8429\n",
            "Epoch 13/100\n",
            "35/35 [==============================] - 0s 6ms/step - loss: 0.2580 - accuracy: 0.8964 - val_loss: 0.4394 - val_accuracy: 0.8429\n",
            "Epoch 14/100\n",
            "35/35 [==============================] - 0s 6ms/step - loss: 0.2602 - accuracy: 0.8964 - val_loss: 0.4338 - val_accuracy: 0.8429\n",
            "Epoch 15/100\n",
            "35/35 [==============================] - 0s 7ms/step - loss: 0.2560 - accuracy: 0.8964 - val_loss: 0.4273 - val_accuracy: 0.8429\n",
            "Epoch 16/100\n",
            "35/35 [==============================] - 0s 6ms/step - loss: 0.2516 - accuracy: 0.8964 - val_loss: 0.4233 - val_accuracy: 0.8429\n",
            "Epoch 17/100\n",
            "35/35 [==============================] - 0s 7ms/step - loss: 0.2503 - accuracy: 0.9000 - val_loss: 0.4203 - val_accuracy: 0.8571\n",
            "Epoch 18/100\n",
            "35/35 [==============================] - 0s 6ms/step - loss: 0.2479 - accuracy: 0.9000 - val_loss: 0.4171 - val_accuracy: 0.8571\n",
            "Epoch 19/100\n",
            "35/35 [==============================] - 0s 7ms/step - loss: 0.2454 - accuracy: 0.9000 - val_loss: 0.4140 - val_accuracy: 0.8571\n",
            "Epoch 20/100\n",
            "35/35 [==============================] - 0s 8ms/step - loss: 0.2436 - accuracy: 0.9000 - val_loss: 0.4105 - val_accuracy: 0.8571\n",
            "Epoch 21/100\n",
            "35/35 [==============================] - 3s 86ms/step - loss: 0.2415 - accuracy: 0.9000 - val_loss: 0.4061 - val_accuracy: 0.8714\n",
            "Epoch 22/100\n",
            "35/35 [==============================] - 0s 6ms/step - loss: 0.2392 - accuracy: 0.9000 - val_loss: 0.4013 - val_accuracy: 0.8714\n",
            "Epoch 23/100\n",
            "35/35 [==============================] - 0s 6ms/step - loss: 0.2368 - accuracy: 0.9000 - val_loss: 0.3965 - val_accuracy: 0.8714\n",
            "Epoch 24/100\n",
            "35/35 [==============================] - 0s 6ms/step - loss: 0.2344 - accuracy: 0.9036 - val_loss: 0.3919 - val_accuracy: 0.8714\n",
            "Epoch 25/100\n",
            "35/35 [==============================] - 0s 7ms/step - loss: 0.2320 - accuracy: 0.9036 - val_loss: 0.3873 - val_accuracy: 0.8714\n",
            "Epoch 26/100\n",
            "35/35 [==============================] - 0s 7ms/step - loss: 0.2297 - accuracy: 0.9071 - val_loss: 0.3829 - val_accuracy: 0.8714\n",
            "Epoch 27/100\n",
            "35/35 [==============================] - 0s 6ms/step - loss: 0.2273 - accuracy: 0.9179 - val_loss: 0.3785 - val_accuracy: 0.8714\n",
            "Epoch 28/100\n",
            "35/35 [==============================] - 0s 7ms/step - loss: 0.2250 - accuracy: 0.9179 - val_loss: 0.3741 - val_accuracy: 0.8714\n",
            "Epoch 29/100\n",
            "35/35 [==============================] - 0s 8ms/step - loss: 0.2225 - accuracy: 0.9250 - val_loss: 0.3699 - val_accuracy: 0.8714\n",
            "Epoch 30/100\n",
            "35/35 [==============================] - 0s 8ms/step - loss: 0.2198 - accuracy: 0.9250 - val_loss: 0.3658 - val_accuracy: 0.8714\n",
            "Epoch 31/100\n",
            "35/35 [==============================] - 0s 6ms/step - loss: 0.2164 - accuracy: 0.9250 - val_loss: 0.3621 - val_accuracy: 0.8714\n",
            "Epoch 32/100\n",
            "35/35 [==============================] - 0s 7ms/step - loss: 0.2125 - accuracy: 0.9250 - val_loss: 0.3594 - val_accuracy: 0.8714\n",
            "Epoch 33/100\n",
            "35/35 [==============================] - 0s 7ms/step - loss: 0.2081 - accuracy: 0.9286 - val_loss: 0.3579 - val_accuracy: 0.8714\n",
            "Epoch 34/100\n",
            "35/35 [==============================] - 0s 6ms/step - loss: 0.2037 - accuracy: 0.9250 - val_loss: 0.3572 - val_accuracy: 0.8714\n",
            "Epoch 35/100\n",
            "35/35 [==============================] - 0s 8ms/step - loss: 0.1995 - accuracy: 0.9286 - val_loss: 0.3571 - val_accuracy: 0.8714\n",
            "Epoch 36/100\n",
            "35/35 [==============================] - 0s 8ms/step - loss: 0.1956 - accuracy: 0.9286 - val_loss: 0.3577 - val_accuracy: 0.8714\n",
            "Epoch 37/100\n",
            "35/35 [==============================] - 0s 9ms/step - loss: 0.1923 - accuracy: 0.9321 - val_loss: 0.3586 - val_accuracy: 0.8714\n",
            "Epoch 38/100\n",
            "35/35 [==============================] - 0s 10ms/step - loss: 0.1894 - accuracy: 0.9357 - val_loss: 0.3594 - val_accuracy: 0.8714\n",
            "Epoch 39/100\n",
            "35/35 [==============================] - 0s 9ms/step - loss: 0.1869 - accuracy: 0.9357 - val_loss: 0.3600 - val_accuracy: 0.8714\n",
            "Epoch 40/100\n",
            "35/35 [==============================] - 0s 9ms/step - loss: 0.1845 - accuracy: 0.9429 - val_loss: 0.3604 - val_accuracy: 0.8571\n",
            "Epoch 41/100\n",
            "35/35 [==============================] - 0s 10ms/step - loss: 0.1824 - accuracy: 0.9429 - val_loss: 0.3613 - val_accuracy: 0.8571\n",
            "Epoch 42/100\n",
            "35/35 [==============================] - 0s 10ms/step - loss: 0.1806 - accuracy: 0.9464 - val_loss: 0.3640 - val_accuracy: 0.8571\n",
            "Epoch 43/100\n",
            "35/35 [==============================] - 0s 9ms/step - loss: 0.1796 - accuracy: 0.9429 - val_loss: 0.3776 - val_accuracy: 0.8571\n",
            "Epoch 44/100\n",
            "35/35 [==============================] - 0s 11ms/step - loss: 0.1985 - accuracy: 0.9357 - val_loss: 0.4315 - val_accuracy: 0.8429\n",
            "Epoch 45/100\n",
            "35/35 [==============================] - 0s 6ms/step - loss: 0.2131 - accuracy: 0.9214 - val_loss: 0.3942 - val_accuracy: 0.8429\n",
            "Epoch 45: early stopping\n"
          ]
        },
        {
          "output_type": "display_data",
          "data": {
            "text/plain": [
              "<Figure size 640x480 with 1 Axes>"
            ],
            "image/png": "[encoded data removed]"
          },
          "metadata": {}
        }
      ]
    },
    {
      "cell_type": "code",
      "source": [
        "# Deperated, use LSTM instead.\n",
        "\n",
        "\n",
        "# model = keras.models.Sequential()\n",
        "# model.add(keras.layers.Dense(50, input_dim=input_size, activation=\"ReLU\"))\n",
        "# model.add(keras.layers.Dense(60, activation=\"ReLU\"))\n",
        "# model.add(keras.layers.Dense(50, activation=\"ReLU\"))\n",
        "# model.add(keras.layers.Dense(2, activation=\"softmax\"))\n",
        "# model.summary()\n",
        "# model.compile(loss='binary_crossentropy', optimizer='adam',\n",
        "#             metrics=['accuracy'])\n",
        "# history = model.fit(\n",
        "#     train_ds,\n",
        "#     validation_data=val_ds,\n",
        "#     epochs=EPOCHS,\n",
        "#     # callbacks=[earlystop_callback],\n",
        "# )\n",
        "# plt.plot(history.history[\"accuracy\"], label=\"val_accuracy\")\n",
        "# plt.plot(history.history[\"val_loss\"], label=\"val_loss\")\n",
        "# plt.legend()\n",
        "# plt.show()"
      ],
      "metadata": {
        "id": "re3vuCdIJ3YO"
      },
      "execution_count": null,
      "outputs": []
    }
  ]
}